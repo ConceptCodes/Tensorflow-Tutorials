{
 "cells": [
  {
   "cell_type": "markdown",
   "metadata": {},
   "source": [
    "# Simple tutorial for using TensorFlow to compute a linear regression.\n",
    "\n",
    " Parag K. Mital, Jan. 2016 | David Ojo , Jul 2018"
   ]
  },
  {
   "cell_type": "markdown",
   "metadata": {},
   "source": [
    "#  Import Tensorflow and Plotting Libary"
   ]
  },
  {
   "cell_type": "code",
   "execution_count": 105,
   "metadata": {},
   "outputs": [],
   "source": [
    "%matplotlib inline\n",
    "import numpy as np\n",
    "import tensorflow as tf\n",
    "import matplotlib.pyplot as plt"
   ]
  },
  {
   "cell_type": "markdown",
   "metadata": {},
   "source": [
    "## Let's create some toy data"
   ]
  },
  {
   "cell_type": "code",
   "execution_count": 106,
   "metadata": {},
   "outputs": [
    {
     "name": "stderr",
     "output_type": "stream",
     "text": [
      "c:\\users\\david ojo\\appdata\\local\\programs\\python\\python36\\lib\\site-packages\\matplotlib\\figure.py:459: UserWarning: matplotlib is currently using a non-GUI backend, so cannot show the figure\n",
      "  \"matplotlib is currently using a non-GUI backend, \"\n"
     ]
    },
    {
     "data": {
      "image/png": "[encoded data removed]",
      "text/plain": [
       "<Figure size 432x288 with 1 Axes>"
      ]
     },
     "metadata": {},
     "output_type": "display_data"
    }
   ],
   "source": [
    "plt.ion()\n",
    "n_observations = 100\n",
    "fig, ax = plt.subplots(1, 1)\n",
    "xs = np.linspace(-3, 3, n_observations)\n",
    "ys = np.sin(xs) + np.random.uniform(-0.5, 0.5, n_observations)\n",
    "ax.scatter(xs, ys)\n",
    "fig.show()\n",
    "plt.draw()"
   ]
  },
  {
   "cell_type": "markdown",
   "metadata": {},
   "source": [
    "#  tf.placeholders for the input and output of the network. \n",
    "#### Placeholders are variables which we need to fill in when we are ready to compute the graph."
   ]
  },
  {
   "cell_type": "code",
   "execution_count": 107,
   "metadata": {},
   "outputs": [],
   "source": [
    "X = tf.placeholder(tf.float32)\n",
    "Y = tf.placeholder(tf.float32)"
   ]
  },
  {
   "cell_type": "markdown",
   "metadata": {},
   "source": [
    "#  We will try to optimize \n",
    "## [ min_(W,b) ||(X*w + b) - y||^2 ]\n",
    "### The `Variable()` constructor requires an initial value for the variable, which can be a `Tensor` of any type and shape. The initial value defines the type and shape of the variable. After construction, the type and shape of the variable are fixed. The value can be changed using one of the assign methods."
   ]
  },
  {
   "cell_type": "code",
   "execution_count": 108,
   "metadata": {},
   "outputs": [],
   "source": [
    "W = tf.Variable(tf.random_normal([1]), name='weight')\n",
    "b = tf.Variable(tf.random_normal([1]), name='bias')\n",
    "Y_pred = tf.add(tf.multiply(X, W), b)"
   ]
  },
  {
   "cell_type": "code",
   "execution_count": 109,
   "metadata": {},
   "outputs": [],
   "source": [
    "# %% Loss function will measure the distance between our observations\n",
    "# and predictions and average over them.\n",
    "cost = tf.reduce_sum(tf.pow(Y_pred - Y, 2)) / (n_observations - 1)"
   ]
  },
  {
   "cell_type": "markdown",
   "metadata": {
    "collapsed": true
   },
   "source": [
    "###  If we wanted to add regularization, we could add other terms to the cost, e.g. ridge regression has a parameter controlling the amount of shrinkage over the norm of activations. The larger the shrinkage, the more robust to collinearity. cost = tf.add(cost, tf.mul(1e-6, tf.global_norm([W])))"
   ]
  },
  {
   "cell_type": "markdown",
   "metadata": {},
   "source": [
    "#  Use gradient descent to optimize W,b\n",
    "### Performs a single step in the negative gradient"
   ]
  },
  {
   "cell_type": "code",
   "execution_count": 110,
   "metadata": {},
   "outputs": [],
   "source": [
    "learning_rate = 0.0001\n",
    "optimizer = tf.train.GradientDescentOptimizer(learning_rate).minimize(cost)"
   ]
  },
  {
   "cell_type": "markdown",
   "metadata": {},
   "source": [
    "# We create a session to use the graph"
   ]
  },
  {
   "cell_type": "code",
   "execution_count": 111,
   "metadata": {},
   "outputs": [
    {
     "name": "stdout",
     "output_type": "stream",
     "text": [
      "Epoch: 0050 cost= 2.361820936 W= [ 0.26469734] b= [-1.40508974]\n",
      "Epoch: 0100 cost= 2.319392920 W= [ 0.26712069] b= [-1.39073384]\n",
      "Epoch: 0150 cost= 2.277817011 W= [ 0.26946932] b= [-1.37650669]\n",
      "Epoch: 0200 cost= 2.237076044 W= [ 0.27174097] b= [-1.36240733]\n",
      "Epoch: 0250 cost= 2.197304010 W= [ 0.27394846] b= [-1.34849083]\n",
      "Epoch: 0300 cost= 2.158350706 W= [ 0.27608675] b= [-1.33470845]\n",
      "Epoch: 0350 cost= 2.120077848 W= [ 0.27815846] b= [-1.32101488]\n",
      "Epoch: 0400 cost= 2.082678318 W= [ 0.28016955] b= [-1.3074863]\n",
      "Epoch: 0450 cost= 2.046139002 W= [ 0.28212023] b= [-1.29412377]\n",
      "Epoch: 0500 cost= 2.010301113 W= [ 0.28401053] b= [-1.28087294]\n",
      "Epoch: 0550 cost= 1.975159168 W= [ 0.28584301] b= [-1.26773632]\n",
      "Epoch: 0600 cost= 1.940770984 W= [ 0.28762031] b= [-1.25474107]\n",
      "Epoch: 0650 cost= 1.907181501 W= [ 0.2893447] b= [-1.24190998]\n",
      "Epoch: 0700 cost= 1.874173880 W= [ 0.29101467] b= [-1.22916293]\n",
      "Epoch: 0750 cost= 1.841893673 W= [ 0.29263362] b= [-1.21656179]\n",
      "Epoch: 0800 cost= 1.810298085 W= [ 0.29420447] b= [-1.20409477]\n",
      "Epoch: 0850 cost= 1.779350400 W= [ 0.29572573] b= [-1.19175124]\n",
      "Epoch: 0900 cost= 1.749031782 W= [ 0.2972036] b= [-1.17952883]\n",
      "Epoch: 0950 cost= 1.719309807 W= [ 0.29863682] b= [-1.167418]\n",
      "Epoch: 1000 cost= 1.690240741 W= [ 0.30002248] b= [-1.15544605]\n",
      "Epoch: 1050 cost= 1.661689162 W= [ 0.3013697] b= [-1.14356136]\n",
      "Epoch: 1100 cost= 1.633812308 W= [ 0.30267185] b= [-1.13183355]\n",
      "Epoch: 1150 cost= 1.606529832 W= [ 0.30393922] b= [-1.12023425]\n",
      "Epoch: 1200 cost= 1.579769373 W= [ 0.30516616] b= [-1.1087358]\n",
      "Epoch: 1250 cost= 1.553518176 W= [ 0.30635467] b= [-1.09733605]\n",
      "Epoch: 1300 cost= 1.527767181 W= [ 0.30750573] b= [-1.08603454]\n",
      "Epoch: 1350 cost= 1.502593875 W= [ 0.30862325] b= [-1.07486999]\n",
      "Epoch: 1400 cost= 1.477968574 W= [ 0.30970639] b= [-1.06383336]\n",
      "Epoch: 1450 cost= 1.453845143 W= [ 0.31075779] b= [-1.05290771]\n",
      "Epoch: 1500 cost= 1.430212736 W= [ 0.31177554] b= [-1.04209185]\n",
      "Epoch: 1550 cost= 1.407031298 W= [ 0.31276599] b= [-1.03137124]\n",
      "Epoch: 1600 cost= 1.384268999 W= [ 0.31372142] b= [-1.020733]\n",
      "Epoch: 1650 cost= 1.361966968 W= [ 0.31465071] b= [-1.01020062]\n",
      "Epoch: 1700 cost= 1.340211511 W= [ 0.31555247] b= [-0.99981916]\n",
      "Epoch: 1750 cost= 1.318857193 W= [ 0.31642362] b= [-0.98952222]\n",
      "Epoch: 1800 cost= 1.297952652 W= [ 0.31726915] b= [-0.97933704]\n",
      "Epoch: 1850 cost= 1.277451515 W= [ 0.31808838] b= [-0.96924406]\n",
      "Epoch: 1900 cost= 1.257366180 W= [ 0.31888741] b= [-0.95925307]\n",
      "Epoch: 1950 cost= 1.237703681 W= [ 0.31965843] b= [-0.94937038]\n",
      "Epoch: 2000 cost= 1.218431830 W= [ 0.3204045] b= [-0.93958312]\n",
      "Epoch: 2050 cost= 1.199542046 W= [ 0.32112956] b= [-0.92989039]\n",
      "Epoch: 2100 cost= 1.181038857 W= [ 0.32183236] b= [-0.92029744]\n",
      "Epoch: 2150 cost= 1.162918806 W= [ 0.32251194] b= [-0.91080552]\n",
      "Epoch: 2200 cost= 1.145150304 W= [ 0.32317388] b= [-0.90140152]\n",
      "Epoch: 2250 cost= 1.127746582 W= [ 0.32381228] b= [-0.89209503]\n",
      "Epoch: 2300 cost= 1.110700846 W= [ 0.32443473] b= [-0.88288587]\n",
      "Epoch: 2350 cost= 1.093986750 W= [ 0.32503781] b= [-0.87376249]\n",
      "Epoch: 2400 cost= 1.077623129 W= [ 0.32561749] b= [-0.86473787]\n",
      "Epoch: 2450 cost= 1.061574340 W= [ 0.32618257] b= [-0.85579556]\n",
      "Epoch: 2500 cost= 1.045858741 W= [ 0.32673156] b= [-0.8469488]\n",
      "Epoch: 2550 cost= 1.030472994 W= [ 0.32726434] b= [-0.83819848]\n",
      "Epoch: 2600 cost= 1.015366554 W= [ 0.32777664] b= [-0.82951814]\n",
      "Epoch: 2650 cost= 1.000576615 W= [ 0.32827467] b= [-0.82093221]\n",
      "Epoch: 2700 cost= 0.986110032 W= [ 0.32875931] b= [-0.81244779]\n",
      "Epoch: 2750 cost= 0.971903384 W= [ 0.32923079] b= [-0.80403018]\n",
      "Epoch: 2800 cost= 0.957973361 W= [ 0.32968804] b= [-0.79569155]\n",
      "Epoch: 2850 cost= 0.944359958 W= [ 0.33012989] b= [-0.78745872]\n",
      "Epoch: 2900 cost= 0.931015611 W= [ 0.33055994] b= [-0.77930588]\n",
      "Epoch: 2950 cost= 0.917905450 W= [ 0.33097488] b= [-0.77121365]\n",
      "Epoch: 3000 cost= 0.905075788 W= [ 0.33137718] b= [-0.76321322]\n",
      "Optimization Finished!\n",
      "Training cost= 0.905076 W= [ 0.33137718] b= [-0.76321322] \n",
      "\n"
     ]
    }
   ],
   "source": [
    "n_epochs = 3000\n",
    "display_step = 50\n",
    "error = []\n",
    "with tf.Session() as sess:\n",
    "    coord = tf.train.Coordinator()\n",
    "    threads = tf.train.start_queue_runners(coord=coord)\n",
    "    # Here we tell tensorflow that we want to initialize all\n",
    "    # the variables in the graph so we can use them\n",
    "    sess.run(tf.initialize_all_variables())\n",
    "\n",
    "    # Fit all training data\n",
    "    for epoch_i in range(n_epochs):\n",
    "        for (x, y) in zip(xs, ys):\n",
    "            sess.run(optimizer, feed_dict={X: x, Y: y})\n",
    "\n",
    "        training_cost = sess.run(cost, feed_dict={X: xs, Y: ys})\n",
    "        error.append(training_cost)\n",
    "\n",
    "        #Display logs per epoch step\n",
    "        if (epoch_i+1) % display_step == 0:\n",
    "            print( \"Epoch:\", '%04d' % (epoch_i+1), \"cost=\", \"{:.9f}\".format(training_cost), \\\n",
    "            \"W=\", sess.run(W), \"b=\", sess.run(b))\n",
    "\n",
    "    print(\"Optimization Finished!\")\n",
    "    print(\"Training cost=\", training_cost, \"W=\", sess.run(W), \"b=\", sess.run(b), '\\n')\n"
   ]
  },
  {
   "cell_type": "markdown",
   "metadata": {},
   "source": [
    "# Plot data after completing training"
   ]
  },
  {
   "cell_type": "code",
   "execution_count": 112,
   "metadata": {},
   "outputs": [
    {
     "data": {
      "image/png": "[encoded data removed]",
      "text/plain": [
       "<Figure size 432x288 with 1 Axes>"
      ]
     },
     "metadata": {},
     "output_type": "display_data"
    }
   ],
   "source": [
    "#Graphic display\n",
    "plt.plot(error, linewidth=2.0)\n",
    "plt.xlabel('Epochs')\n",
    "plt.ylabel('Training Cost')\n",
    "plt.title('Training Cost over Epochs')\n",
    "plt.grid(True)\n",
    "\n",
    "coord.request_stop()\n",
    "coord.join(threads)"
   ]
  }
 ],
 "metadata": {
  "kernelspec": {
   "display_name": "Python 3",
   "language": "python",
   "name": "python3"
  },
  "language_info": {
   "codemirror_mode": {
    "name": "ipython",
    "version": 3
   },
   "file_extension": ".py",
   "mimetype": "text/x-python",
   "name": "python",
   "nbconvert_exporter": "python",
   "pygments_lexer": "ipython3",
   "version": "3.6.2"
  }
 },
 "nbformat": 4,
 "nbformat_minor": 1
}
